{
 "cells": [
  {
   "cell_type": "markdown",
   "id": "ed16a76c",
   "metadata": {},
   "source": [
    "## WORKING WITH DATE AND TIME IN PYTHON"
   ]
  },
  {
   "cell_type": "markdown",
   "id": "61479b8f",
   "metadata": {},
   "source": [
    "### Technical requirements"
   ]
  },
  {
   "cell_type": "code",
   "execution_count": 5,
   "id": "e6256bde",
   "metadata": {},
   "outputs": [],
   "source": [
    "import pandas as pd\n",
    "import numpy as np\n",
    "import datetime as dt"
   ]
  },
  {
   "cell_type": "markdown",
   "id": "f6b33a5f",
   "metadata": {},
   "source": [
    "### Compare Python's datetime.datetime and Panda's Timestamp and DatetimeIndex"
   ]
  },
  {
   "cell_type": "code",
   "execution_count": 15,
   "id": "090b63cb",
   "metadata": {},
   "outputs": [
    {
     "name": "stdout",
     "output_type": "stream",
     "text": [
      "2022-01-01 00:00:00\n",
      "1970-01-01 00:00:00.000002020\n",
      "2022-01-01 00:00:00\n"
     ]
    }
   ],
   "source": [
    "dt1 = dt.datetime(2022, 1, 1)\n",
    "dt2 = pd.Timestamp(2022-1-1)\n",
    "dt3 = pd.to_datetime('2022-1-1')\n",
    "\n",
    "print(dt1)\n",
    "print(dt2)\n",
    "print(dt3)"
   ]
  },
  {
   "cell_type": "code",
   "execution_count": 18,
   "id": "f5311c4b",
   "metadata": {},
   "outputs": [
    {
     "name": "stdout",
     "output_type": "stream",
     "text": [
      "<class 'datetime.datetime'>\n",
      "<class 'pandas._libs.tslibs.timestamps.Timestamp'>\n",
      "<class 'pandas._libs.tslibs.timestamps.Timestamp'>\n"
     ]
    }
   ],
   "source": [
    "print(type(dt1))\n",
    "print(type(dt2))\n",
    "print(type(dt3))"
   ]
  },
  {
   "cell_type": "code",
   "execution_count": 19,
   "id": "d33f600f",
   "metadata": {},
   "outputs": [
    {
     "data": {
      "text/plain": [
       "False"
      ]
     },
     "execution_count": 19,
     "metadata": {},
     "output_type": "execute_result"
    }
   ],
   "source": [
    "dt1 == dt2 == dt3"
   ]
  },
  {
   "cell_type": "code",
   "execution_count": 21,
   "id": "c11f8e2b",
   "metadata": {},
   "outputs": [
    {
     "data": {
      "text/plain": [
       "True"
      ]
     },
     "execution_count": 21,
     "metadata": {},
     "output_type": "execute_result"
    }
   ],
   "source": [
    "isinstance(dt2, dt.datetime)"
   ]
  },
  {
   "cell_type": "code",
   "execution_count": 22,
   "id": "8b76f04c",
   "metadata": {},
   "outputs": [
    {
     "data": {
      "text/plain": [
       "False"
      ]
     },
     "execution_count": 22,
     "metadata": {},
     "output_type": "execute_result"
    }
   ],
   "source": [
    "isinstance(dt1, pd.Timestamp)"
   ]
  },
  {
   "cell_type": "markdown",
   "id": "d58b4c34",
   "metadata": {},
   "source": [
    "### Dealing with different time formats"
   ]
  },
  {
   "cell_type": "code",
   "execution_count": 25,
   "id": "1a56d111",
   "metadata": {},
   "outputs": [
    {
     "data": {
      "text/plain": [
       "DatetimeIndex(['2021-01-01', '2021-02-01', '2021-03-01', '2021-04-01',\n",
       "               '2021-05-01', '2021-07-01', '2021-08-01', '2021-09-01'],\n",
       "              dtype='datetime64[ns]', freq=None)"
      ]
     },
     "execution_count": 25,
     "metadata": {},
     "output_type": "execute_result"
    }
   ],
   "source": [
    "dates = ['2021-01-01', '2/1/2021', '03-01-2021', 'April 1, 2021', '20210501', np.datetime64('2021-07-01'), dt.datetime(2021, 8, 1), pd.Timestamp(2021, 9, 1)]\n",
    "parsed_dates=pd.DatetimeIndex(dates)\n",
    "parsed_dates"
   ]
  },
  {
   "cell_type": "markdown",
   "id": "bb1e2089",
   "metadata": {},
   "source": [
    "### Extracting useful information from DatetimeIndex"
   ]
  },
  {
   "cell_type": "code",
   "execution_count": 26,
   "id": "086b6366",
   "metadata": {},
   "outputs": [
    {
     "name": "stdout",
     "output_type": "stream",
     "text": [
      "Name of day: Index(['Friday', 'Monday', 'Monday', 'Thursday', 'Saturday', 'Thursday',\n",
      "       'Sunday', 'Wednesday'],\n",
      "      dtype='object')\n"
     ]
    }
   ],
   "source": [
    "print(f'Name of day: {parsed_dates.day_name()}')"
   ]
  },
  {
   "cell_type": "code",
   "execution_count": 27,
   "id": "4d56a57f",
   "metadata": {},
   "outputs": [
    {
     "name": "stdout",
     "output_type": "stream",
     "text": [
      "Name of month: Index(['January', 'February', 'March', 'April', 'May', 'July', 'August',\n",
      "       'September'],\n",
      "      dtype='object')\n"
     ]
    }
   ],
   "source": [
    "print(f'Name of month: {parsed_dates.month_name()}')"
   ]
  },
  {
   "cell_type": "code",
   "execution_count": 29,
   "id": "e3469f7c",
   "metadata": {},
   "outputs": [
    {
     "name": "stdout",
     "output_type": "stream",
     "text": [
      "Name of year: Index([2021, 2021, 2021, 2021, 2021, 2021, 2021, 2021], dtype='int32')\n"
     ]
    }
   ],
   "source": [
    "print(f'Name of year: {parsed_dates.year}')"
   ]
  },
  {
   "cell_type": "code",
   "execution_count": 31,
   "id": "85f55961",
   "metadata": {},
   "outputs": [
    {
     "name": "stdout",
     "output_type": "stream",
     "text": [
      "Days in month: Index([31, 28, 31, 30, 31, 31, 31, 30], dtype='int32')\n"
     ]
    }
   ],
   "source": [
    "print(f'Days in month: {parsed_dates.days_in_month}')"
   ]
  },
  {
   "cell_type": "code",
   "execution_count": 31,
   "id": "c7e83390",
   "metadata": {},
   "outputs": [
    {
     "name": "stdout",
     "output_type": "stream",
     "text": [
      "Days in month: Index([31, 28, 31, 30, 31, 31, 31, 30], dtype='int32')\n"
     ]
    }
   ],
   "source": [
    "print(f'Days in month: {parsed_dates.days_in_month}')"
   ]
  },
  {
   "cell_type": "markdown",
   "id": "dded095a",
   "metadata": {},
   "source": [
    "### pd.date_range()"
   ]
  },
  {
   "cell_type": "code",
   "execution_count": 33,
   "id": "ec5479f9",
   "metadata": {},
   "outputs": [
    {
     "data": {
      "text/plain": [
       "DatetimeIndex(['2021-01-01', '2021-01-02', '2021-01-03'], dtype='datetime64[ns]', freq='D')"
      ]
     },
     "execution_count": 33,
     "metadata": {},
     "output_type": "execute_result"
    }
   ],
   "source": [
    "pd.date_range(start='2021-01-01', periods=3, freq='D')"
   ]
  },
  {
   "cell_type": "code",
   "execution_count": 34,
   "id": "05f64d7c",
   "metadata": {},
   "outputs": [
    {
     "data": {
      "text/plain": [
       "DatetimeIndex(['2021-01-01', '2021-01-02', '2021-01-03', '2021-01-04',\n",
       "               '2021-01-05', '2021-01-06', '2021-01-07', '2021-01-08',\n",
       "               '2021-01-09', '2021-01-10', '2021-01-11', '2021-01-12',\n",
       "               '2021-01-13', '2021-01-14', '2021-01-15', '2021-01-16',\n",
       "               '2021-01-17', '2021-01-18', '2021-01-19', '2021-01-20',\n",
       "               '2021-01-21', '2021-01-22', '2021-01-23', '2021-01-24',\n",
       "               '2021-01-25', '2021-01-26', '2021-01-27', '2021-01-28',\n",
       "               '2021-01-29', '2021-01-30', '2021-01-31', '2021-02-01',\n",
       "               '2021-02-02', '2021-02-03', '2021-02-04', '2021-02-05',\n",
       "               '2021-02-06', '2021-02-07', '2021-02-08', '2021-02-09',\n",
       "               '2021-02-10', '2021-02-11', '2021-02-12', '2021-02-13',\n",
       "               '2021-02-14', '2021-02-15', '2021-02-16', '2021-02-17',\n",
       "               '2021-02-18', '2021-02-19', '2021-02-20', '2021-02-21',\n",
       "               '2021-02-22', '2021-02-23', '2021-02-24', '2021-02-25',\n",
       "               '2021-02-26', '2021-02-27', '2021-02-28', '2021-03-01'],\n",
       "              dtype='datetime64[ns]', freq='D')"
      ]
     },
     "execution_count": 34,
     "metadata": {},
     "output_type": "execute_result"
    }
   ],
   "source": [
    "pd.date_range(start='2021-01-01', end='2021-03-01', freq='D')"
   ]
  },
  {
   "cell_type": "code",
   "execution_count": 36,
   "id": "91e633ba",
   "metadata": {},
   "outputs": [
    {
     "data": {
      "text/plain": [
       "DatetimeIndex(['2021-01-01 00:00:00', '2021-01-15 18:00:00',\n",
       "               '2021-01-30 12:00:00', '2021-02-14 06:00:00',\n",
       "               '2021-03-01 00:00:00'],\n",
       "              dtype='datetime64[ns]', freq=None)"
      ]
     },
     "execution_count": 36,
     "metadata": {},
     "output_type": "execute_result"
    }
   ],
   "source": [
    "pd.date_range(start='2021-01-01', end='2021-03-01', periods=5)"
   ]
  },
  {
   "cell_type": "code",
   "execution_count": 38,
   "id": "1e6dcceb",
   "metadata": {},
   "outputs": [
    {
     "data": {
      "text/plain": [
       "DatetimeIndex(['2021-01-01', '2021-01-02', '2021-01-03'], dtype='datetime64[ns]', freq='D')"
      ]
     },
     "execution_count": 38,
     "metadata": {},
     "output_type": "execute_result"
    }
   ],
   "source": [
    "pd.date_range(start='2021-01-01', periods=3)"
   ]
  },
  {
   "cell_type": "code",
   "execution_count": 40,
   "id": "a5f599d6",
   "metadata": {},
   "outputs": [
    {
     "data": {
      "text/plain": [
       "DatetimeIndex(['2021-01-01', '2021-01-02', '2021-01-03', '2021-01-04',\n",
       "               '2021-01-05'],\n",
       "              dtype='datetime64[ns]', freq='D')"
      ]
     },
     "execution_count": 40,
     "metadata": {},
     "output_type": "execute_result"
    }
   ],
   "source": [
    "pd.date_range(start='2021-01-01', freq='D', periods=5)"
   ]
  },
  {
   "cell_type": "markdown",
   "id": "de373c00",
   "metadata": {},
   "source": [
    "### Custom date formatting"
   ]
  },
  {
   "cell_type": "code",
   "execution_count": 44,
   "id": "81ee92ed",
   "metadata": {},
   "outputs": [
    {
     "data": {
      "text/plain": [
       "Timestamp('2022-01-01 00:00:00')"
      ]
     },
     "execution_count": 44,
     "metadata": {},
     "output_type": "execute_result"
    }
   ],
   "source": [
    "pd.to_datetime('1/1/2022', format='%m/%d/%Y')"
   ]
  },
  {
   "cell_type": "code",
   "execution_count": 46,
   "id": "e1bd71c3",
   "metadata": {},
   "outputs": [
    {
     "data": {
      "text/plain": [
       "Timestamp('1999-04-04 00:00:00')"
      ]
     },
     "execution_count": 46,
     "metadata": {},
     "output_type": "execute_result"
    }
   ],
   "source": [
    "pd.to_datetime('April 4, 1999', format='%B %d, %Y')"
   ]
  },
  {
   "cell_type": "code",
   "execution_count": 48,
   "id": "63707334",
   "metadata": {},
   "outputs": [
    {
     "data": {
      "text/plain": [
       "Timestamp('1999-04-09 00:00:00')"
      ]
     },
     "execution_count": 48,
     "metadata": {},
     "output_type": "execute_result"
    }
   ],
   "source": [
    "pd.to_datetime('Friday, April 9, 1999', format='%A, %B %d, %Y')"
   ]
  },
  {
   "cell_type": "markdown",
   "id": "85a64f23",
   "metadata": {},
   "source": [
    "### Parsing string objects to Datetime"
   ]
  },
  {
   "cell_type": "code",
   "execution_count": 49,
   "id": "81b16a5f",
   "metadata": {},
   "outputs": [
    {
     "data": {
      "text/html": [
       "<div>\n",
       "<style scoped>\n",
       "    .dataframe tbody tr th:only-of-type {\n",
       "        vertical-align: middle;\n",
       "    }\n",
       "\n",
       "    .dataframe tbody tr th {\n",
       "        vertical-align: top;\n",
       "    }\n",
       "\n",
       "    .dataframe thead th {\n",
       "        text-align: right;\n",
       "    }\n",
       "</style>\n",
       "<table border=\"1\" class=\"dataframe\">\n",
       "  <thead>\n",
       "    <tr style=\"text-align: right;\">\n",
       "      <th></th>\n",
       "      <th>Date</th>\n",
       "      <th>Sales</th>\n",
       "    </tr>\n",
       "  </thead>\n",
       "  <tbody>\n",
       "    <tr>\n",
       "      <th>0</th>\n",
       "      <td>January 1, 2022</td>\n",
       "      <td>23000</td>\n",
       "    </tr>\n",
       "    <tr>\n",
       "      <th>1</th>\n",
       "      <td>January 2, 2022</td>\n",
       "      <td>19020</td>\n",
       "    </tr>\n",
       "    <tr>\n",
       "      <th>2</th>\n",
       "      <td>January 3, 2022</td>\n",
       "      <td>21000</td>\n",
       "    </tr>\n",
       "  </tbody>\n",
       "</table>\n",
       "</div>"
      ],
      "text/plain": [
       "              Date  Sales\n",
       "0  January 1, 2022  23000\n",
       "1  January 2, 2022  19020\n",
       "2  January 3, 2022  21000"
      ]
     },
     "execution_count": 49,
     "metadata": {},
     "output_type": "execute_result"
    }
   ],
   "source": [
    "df = pd.DataFrame({\n",
    "    'Date': ['January 1, 2022', 'January 2, 2022', 'January 3, 2022'],\n",
    "    'Sales': [23000, 19020, 21000]\n",
    "})\n",
    "df"
   ]
  },
  {
   "cell_type": "markdown",
   "id": "019c103c",
   "metadata": {},
   "source": [
    "### Update DataFrame to include DatetimeIndex"
   ]
  },
  {
   "cell_type": "code",
   "execution_count": 53,
   "id": "581f199c",
   "metadata": {},
   "outputs": [
    {
     "data": {
      "text/html": [
       "<div>\n",
       "<style scoped>\n",
       "    .dataframe tbody tr th:only-of-type {\n",
       "        vertical-align: middle;\n",
       "    }\n",
       "\n",
       "    .dataframe tbody tr th {\n",
       "        vertical-align: top;\n",
       "    }\n",
       "\n",
       "    .dataframe thead th {\n",
       "        text-align: right;\n",
       "    }\n",
       "</style>\n",
       "<table border=\"1\" class=\"dataframe\">\n",
       "  <thead>\n",
       "    <tr style=\"text-align: right;\">\n",
       "      <th></th>\n",
       "      <th>Sales</th>\n",
       "    </tr>\n",
       "    <tr>\n",
       "      <th>Date</th>\n",
       "      <th></th>\n",
       "    </tr>\n",
       "  </thead>\n",
       "  <tbody>\n",
       "    <tr>\n",
       "      <th>2022-01-01</th>\n",
       "      <td>23000</td>\n",
       "    </tr>\n",
       "    <tr>\n",
       "      <th>2022-01-02</th>\n",
       "      <td>19020</td>\n",
       "    </tr>\n",
       "    <tr>\n",
       "      <th>2022-01-03</th>\n",
       "      <td>21000</td>\n",
       "    </tr>\n",
       "  </tbody>\n",
       "</table>\n",
       "</div>"
      ],
      "text/plain": [
       "            Sales\n",
       "Date             \n",
       "2022-01-01  23000\n",
       "2022-01-02  19020\n",
       "2022-01-03  21000"
      ]
     },
     "execution_count": 53,
     "metadata": {},
     "output_type": "execute_result"
    }
   ],
   "source": [
    "df['Date'] = pd.DatetimeIndex(df['Date'])\n",
    "df.set_index('Date', inplace=True)\n",
    "df"
   ]
  },
  {
   "cell_type": "markdown",
   "id": "43296c37",
   "metadata": {},
   "source": [
    "### Time Deltas"
   ]
  },
  {
   "cell_type": "code",
   "execution_count": 62,
   "id": "9d774bba",
   "metadata": {},
   "outputs": [
    {
     "data": {
      "text/html": [
       "<div>\n",
       "<style scoped>\n",
       "    .dataframe tbody tr th:only-of-type {\n",
       "        vertical-align: middle;\n",
       "    }\n",
       "\n",
       "    .dataframe tbody tr th {\n",
       "        vertical-align: top;\n",
       "    }\n",
       "\n",
       "    .dataframe thead th {\n",
       "        text-align: right;\n",
       "    }\n",
       "</style>\n",
       "<table border=\"1\" class=\"dataframe\">\n",
       "  <thead>\n",
       "    <tr style=\"text-align: right;\">\n",
       "      <th></th>\n",
       "      <th>items</th>\n",
       "      <th>purchase dates</th>\n",
       "    </tr>\n",
       "  </thead>\n",
       "  <tbody>\n",
       "    <tr>\n",
       "      <th>0</th>\n",
       "      <td>item 1</td>\n",
       "      <td>2021-01-01 00:00:00+00:00</td>\n",
       "    </tr>\n",
       "    <tr>\n",
       "      <th>1</th>\n",
       "      <td>item 2</td>\n",
       "      <td>2021-01-02 00:00:00+00:00</td>\n",
       "    </tr>\n",
       "    <tr>\n",
       "      <th>2</th>\n",
       "      <td>item 3</td>\n",
       "      <td>2021-01-03 00:00:00+00:00</td>\n",
       "    </tr>\n",
       "    <tr>\n",
       "      <th>3</th>\n",
       "      <td>item 4</td>\n",
       "      <td>2021-01-04 00:00:00+00:00</td>\n",
       "    </tr>\n",
       "    <tr>\n",
       "      <th>4</th>\n",
       "      <td>item 5</td>\n",
       "      <td>2021-01-05 00:00:00+00:00</td>\n",
       "    </tr>\n",
       "    <tr>\n",
       "      <th>5</th>\n",
       "      <td>item 6</td>\n",
       "      <td>2021-01-06 00:00:00+00:00</td>\n",
       "    </tr>\n",
       "  </tbody>\n",
       "</table>\n",
       "</div>"
      ],
      "text/plain": [
       "    items            purchase dates\n",
       "0  item 1 2021-01-01 00:00:00+00:00\n",
       "1  item 2 2021-01-02 00:00:00+00:00\n",
       "2  item 3 2021-01-03 00:00:00+00:00\n",
       "3  item 4 2021-01-04 00:00:00+00:00\n",
       "4  item 5 2021-01-05 00:00:00+00:00\n",
       "5  item 6 2021-01-06 00:00:00+00:00"
      ]
     },
     "execution_count": 62,
     "metadata": {},
     "output_type": "execute_result"
    }
   ],
   "source": [
    "data = pd.DataFrame({\n",
    "    'items': ['item 1', 'item 2', 'item 3', 'item 4', 'item 5', 'item 6'], \n",
    "    'purchase dates': pd.date_range(start='2021-01-01', periods=6, tz='UTC')\n",
    "})\n",
    "data"
   ]
  },
  {
   "cell_type": "code",
   "execution_count": 63,
   "id": "e375ada2",
   "metadata": {},
   "outputs": [
    {
     "data": {
      "text/html": [
       "<div>\n",
       "<style scoped>\n",
       "    .dataframe tbody tr th:only-of-type {\n",
       "        vertical-align: middle;\n",
       "    }\n",
       "\n",
       "    .dataframe tbody tr th {\n",
       "        vertical-align: top;\n",
       "    }\n",
       "\n",
       "    .dataframe thead th {\n",
       "        text-align: right;\n",
       "    }\n",
       "</style>\n",
       "<table border=\"1\" class=\"dataframe\">\n",
       "  <thead>\n",
       "    <tr style=\"text-align: right;\">\n",
       "      <th></th>\n",
       "      <th>items</th>\n",
       "      <th>purchase dates</th>\n",
       "      <th>expiry dates</th>\n",
       "    </tr>\n",
       "  </thead>\n",
       "  <tbody>\n",
       "    <tr>\n",
       "      <th>0</th>\n",
       "      <td>item 1</td>\n",
       "      <td>2021-01-01 00:00:00+00:00</td>\n",
       "      <td>2021-01-31 00:00:00+00:00</td>\n",
       "    </tr>\n",
       "    <tr>\n",
       "      <th>1</th>\n",
       "      <td>item 2</td>\n",
       "      <td>2021-01-02 00:00:00+00:00</td>\n",
       "      <td>2021-02-01 00:00:00+00:00</td>\n",
       "    </tr>\n",
       "    <tr>\n",
       "      <th>2</th>\n",
       "      <td>item 3</td>\n",
       "      <td>2021-01-03 00:00:00+00:00</td>\n",
       "      <td>2021-02-02 00:00:00+00:00</td>\n",
       "    </tr>\n",
       "    <tr>\n",
       "      <th>3</th>\n",
       "      <td>item 4</td>\n",
       "      <td>2021-01-04 00:00:00+00:00</td>\n",
       "      <td>2021-02-03 00:00:00+00:00</td>\n",
       "    </tr>\n",
       "    <tr>\n",
       "      <th>4</th>\n",
       "      <td>item 5</td>\n",
       "      <td>2021-01-05 00:00:00+00:00</td>\n",
       "      <td>2021-02-04 00:00:00+00:00</td>\n",
       "    </tr>\n",
       "    <tr>\n",
       "      <th>5</th>\n",
       "      <td>item 6</td>\n",
       "      <td>2021-01-06 00:00:00+00:00</td>\n",
       "      <td>2021-02-05 00:00:00+00:00</td>\n",
       "    </tr>\n",
       "  </tbody>\n",
       "</table>\n",
       "</div>"
      ],
      "text/plain": [
       "    items            purchase dates              expiry dates\n",
       "0  item 1 2021-01-01 00:00:00+00:00 2021-01-31 00:00:00+00:00\n",
       "1  item 2 2021-01-02 00:00:00+00:00 2021-02-01 00:00:00+00:00\n",
       "2  item 3 2021-01-03 00:00:00+00:00 2021-02-02 00:00:00+00:00\n",
       "3  item 4 2021-01-04 00:00:00+00:00 2021-02-03 00:00:00+00:00\n",
       "4  item 5 2021-01-05 00:00:00+00:00 2021-02-04 00:00:00+00:00\n",
       "5  item 6 2021-01-06 00:00:00+00:00 2021-02-05 00:00:00+00:00"
      ]
     },
     "execution_count": 63,
     "metadata": {},
     "output_type": "execute_result"
    }
   ],
   "source": [
    "data['expiry dates'] = data['purchase dates'] + pd.Timedelta(days=30)\n",
    "data"
   ]
  },
  {
   "cell_type": "code",
   "execution_count": 64,
   "id": "d3617022",
   "metadata": {},
   "outputs": [
    {
     "data": {
      "text/html": [
       "<div>\n",
       "<style scoped>\n",
       "    .dataframe tbody tr th:only-of-type {\n",
       "        vertical-align: middle;\n",
       "    }\n",
       "\n",
       "    .dataframe tbody tr th {\n",
       "        vertical-align: top;\n",
       "    }\n",
       "\n",
       "    .dataframe thead th {\n",
       "        text-align: right;\n",
       "    }\n",
       "</style>\n",
       "<table border=\"1\" class=\"dataframe\">\n",
       "  <thead>\n",
       "    <tr style=\"text-align: right;\">\n",
       "      <th></th>\n",
       "      <th>items</th>\n",
       "      <th>purchase dates</th>\n",
       "      <th>expiry dates</th>\n",
       "      <th>extended dates</th>\n",
       "    </tr>\n",
       "  </thead>\n",
       "  <tbody>\n",
       "    <tr>\n",
       "      <th>0</th>\n",
       "      <td>item 1</td>\n",
       "      <td>2021-01-01 00:00:00+00:00</td>\n",
       "      <td>2021-01-31 00:00:00+00:00</td>\n",
       "      <td>2021-02-05 12:30:00+00:00</td>\n",
       "    </tr>\n",
       "    <tr>\n",
       "      <th>1</th>\n",
       "      <td>item 2</td>\n",
       "      <td>2021-01-02 00:00:00+00:00</td>\n",
       "      <td>2021-02-01 00:00:00+00:00</td>\n",
       "      <td>2021-02-06 12:30:00+00:00</td>\n",
       "    </tr>\n",
       "    <tr>\n",
       "      <th>2</th>\n",
       "      <td>item 3</td>\n",
       "      <td>2021-01-03 00:00:00+00:00</td>\n",
       "      <td>2021-02-02 00:00:00+00:00</td>\n",
       "      <td>2021-02-07 12:30:00+00:00</td>\n",
       "    </tr>\n",
       "    <tr>\n",
       "      <th>3</th>\n",
       "      <td>item 4</td>\n",
       "      <td>2021-01-04 00:00:00+00:00</td>\n",
       "      <td>2021-02-03 00:00:00+00:00</td>\n",
       "      <td>2021-02-08 12:30:00+00:00</td>\n",
       "    </tr>\n",
       "    <tr>\n",
       "      <th>4</th>\n",
       "      <td>item 5</td>\n",
       "      <td>2021-01-05 00:00:00+00:00</td>\n",
       "      <td>2021-02-04 00:00:00+00:00</td>\n",
       "      <td>2021-02-09 12:30:00+00:00</td>\n",
       "    </tr>\n",
       "    <tr>\n",
       "      <th>5</th>\n",
       "      <td>item 6</td>\n",
       "      <td>2021-01-06 00:00:00+00:00</td>\n",
       "      <td>2021-02-05 00:00:00+00:00</td>\n",
       "      <td>2021-02-10 12:30:00+00:00</td>\n",
       "    </tr>\n",
       "  </tbody>\n",
       "</table>\n",
       "</div>"
      ],
      "text/plain": [
       "    items            purchase dates              expiry dates  \\\n",
       "0  item 1 2021-01-01 00:00:00+00:00 2021-01-31 00:00:00+00:00   \n",
       "1  item 2 2021-01-02 00:00:00+00:00 2021-02-01 00:00:00+00:00   \n",
       "2  item 3 2021-01-03 00:00:00+00:00 2021-02-02 00:00:00+00:00   \n",
       "3  item 4 2021-01-04 00:00:00+00:00 2021-02-03 00:00:00+00:00   \n",
       "4  item 5 2021-01-05 00:00:00+00:00 2021-02-04 00:00:00+00:00   \n",
       "5  item 6 2021-01-06 00:00:00+00:00 2021-02-05 00:00:00+00:00   \n",
       "\n",
       "             extended dates  \n",
       "0 2021-02-05 12:30:00+00:00  \n",
       "1 2021-02-06 12:30:00+00:00  \n",
       "2 2021-02-07 12:30:00+00:00  \n",
       "3 2021-02-08 12:30:00+00:00  \n",
       "4 2021-02-09 12:30:00+00:00  \n",
       "5 2021-02-10 12:30:00+00:00  "
      ]
     },
     "execution_count": 64,
     "metadata": {},
     "output_type": "execute_result"
    }
   ],
   "source": [
    "data['extended dates'] = data['purchase dates'] + pd.Timedelta(days=35, hours=12, minutes=30)\n",
    "data"
   ]
  }
 ],
 "metadata": {
  "kernelspec": {
   "display_name": "Python 3 (ipykernel)",
   "language": "python",
   "name": "python3"
  },
  "language_info": {
   "codemirror_mode": {
    "name": "ipython",
    "version": 3
   },
   "file_extension": ".py",
   "mimetype": "text/x-python",
   "name": "python",
   "nbconvert_exporter": "python",
   "pygments_lexer": "ipython3",
   "version": "3.11.5"
  }
 },
 "nbformat": 4,
 "nbformat_minor": 5
}
